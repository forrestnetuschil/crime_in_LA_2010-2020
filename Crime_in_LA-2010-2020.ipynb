{
 "cells": [
  {
   "cell_type": "code",
   "execution_count": 1,
   "metadata": {},
   "outputs": [],
   "source": [
    "import pandas as pd\n",
    "import numpy as np\n",
    "from sklearn import metrics\n",
    "from sklearn.model_selection import train_test_split"
   ]
  },
  {
   "cell_type": "code",
   "execution_count": 2,
   "metadata": {},
   "outputs": [],
   "source": [
    "df1 = pd.read_csv('C:/Users/forre/Desktop/Python/datasets/datasets-master/Crime_Data_from_2010_to_2019.csv')\n",
    "\n",
    "df2 = pd.read_csv('C:/Users/forre/Desktop/Python/datasets/datasets-master/Crime_Data_from_2020_to_Present.csv')"
   ]
  },
  {
   "cell_type": "code",
   "execution_count": 3,
   "metadata": {},
   "outputs": [
    {
     "data": {
      "text/html": [
       "<div>\n",
       "<style scoped>\n",
       "    .dataframe tbody tr th:only-of-type {\n",
       "        vertical-align: middle;\n",
       "    }\n",
       "\n",
       "    .dataframe tbody tr th {\n",
       "        vertical-align: top;\n",
       "    }\n",
       "\n",
       "    .dataframe thead th {\n",
       "        text-align: right;\n",
       "    }\n",
       "</style>\n",
       "<table border=\"1\" class=\"dataframe\">\n",
       "  <thead>\n",
       "    <tr style=\"text-align: right;\">\n",
       "      <th></th>\n",
       "      <th>DR_NO</th>\n",
       "      <th>Date Rptd</th>\n",
       "      <th>DATE OCC</th>\n",
       "      <th>TIME OCC</th>\n",
       "      <th>AREA</th>\n",
       "      <th>AREA NAME</th>\n",
       "      <th>Rpt Dist No</th>\n",
       "      <th>Part 1-2</th>\n",
       "      <th>Crm Cd</th>\n",
       "      <th>Crm Cd Desc</th>\n",
       "      <th>...</th>\n",
       "      <th>Status</th>\n",
       "      <th>Status Desc</th>\n",
       "      <th>Crm Cd 1</th>\n",
       "      <th>Crm Cd 2</th>\n",
       "      <th>Crm Cd 3</th>\n",
       "      <th>Crm Cd 4</th>\n",
       "      <th>LOCATION</th>\n",
       "      <th>Cross Street</th>\n",
       "      <th>LAT</th>\n",
       "      <th>LON</th>\n",
       "    </tr>\n",
       "  </thead>\n",
       "  <tbody>\n",
       "    <tr>\n",
       "      <th>2117900</th>\n",
       "      <td>190506304</td>\n",
       "      <td>02/22/2019 12:00:00 AM</td>\n",
       "      <td>02/22/2019 12:00:00 AM</td>\n",
       "      <td>840</td>\n",
       "      <td>5</td>\n",
       "      <td>Harbor</td>\n",
       "      <td>569</td>\n",
       "      <td>2</td>\n",
       "      <td>627</td>\n",
       "      <td>CHILD ABUSE (PHYSICAL) - SIMPLE ASSAULT</td>\n",
       "      <td>...</td>\n",
       "      <td>AO</td>\n",
       "      <td>Adult Other</td>\n",
       "      <td>627.0</td>\n",
       "      <td>NaN</td>\n",
       "      <td>NaN</td>\n",
       "      <td>NaN</td>\n",
       "      <td>100 W  22ND                         ST</td>\n",
       "      <td>NaN</td>\n",
       "      <td>33.7257</td>\n",
       "      <td>-118.2801</td>\n",
       "    </tr>\n",
       "    <tr>\n",
       "      <th>2117901</th>\n",
       "      <td>190715222</td>\n",
       "      <td>08/15/2019 12:00:00 AM</td>\n",
       "      <td>08/14/2019 12:00:00 AM</td>\n",
       "      <td>1810</td>\n",
       "      <td>7</td>\n",
       "      <td>Wilshire</td>\n",
       "      <td>701</td>\n",
       "      <td>1</td>\n",
       "      <td>331</td>\n",
       "      <td>THEFT FROM MOTOR VEHICLE - GRAND ($400 AND OVER)</td>\n",
       "      <td>...</td>\n",
       "      <td>IC</td>\n",
       "      <td>Invest Cont</td>\n",
       "      <td>331.0</td>\n",
       "      <td>NaN</td>\n",
       "      <td>NaN</td>\n",
       "      <td>NaN</td>\n",
       "      <td>WILLOUGHBY                   AV</td>\n",
       "      <td>ORLANDO                      AV</td>\n",
       "      <td>34.0871</td>\n",
       "      <td>-118.3732</td>\n",
       "    </tr>\n",
       "    <tr>\n",
       "      <th>2117902</th>\n",
       "      <td>192004409</td>\n",
       "      <td>01/06/2019 12:00:00 AM</td>\n",
       "      <td>01/06/2019 12:00:00 AM</td>\n",
       "      <td>2100</td>\n",
       "      <td>20</td>\n",
       "      <td>Olympic</td>\n",
       "      <td>2029</td>\n",
       "      <td>2</td>\n",
       "      <td>930</td>\n",
       "      <td>CRIMINAL THREATS - NO WEAPON DISPLAYED</td>\n",
       "      <td>...</td>\n",
       "      <td>IC</td>\n",
       "      <td>Invest Cont</td>\n",
       "      <td>930.0</td>\n",
       "      <td>NaN</td>\n",
       "      <td>NaN</td>\n",
       "      <td>NaN</td>\n",
       "      <td>6TH</td>\n",
       "      <td>VIRGIL</td>\n",
       "      <td>34.0637</td>\n",
       "      <td>-118.2870</td>\n",
       "    </tr>\n",
       "    <tr>\n",
       "      <th>2117903</th>\n",
       "      <td>191716777</td>\n",
       "      <td>10/17/2019 12:00:00 AM</td>\n",
       "      <td>10/16/2019 12:00:00 AM</td>\n",
       "      <td>1800</td>\n",
       "      <td>17</td>\n",
       "      <td>Devonshire</td>\n",
       "      <td>1795</td>\n",
       "      <td>1</td>\n",
       "      <td>420</td>\n",
       "      <td>THEFT FROM MOTOR VEHICLE - PETTY ($950 &amp; UNDER)</td>\n",
       "      <td>...</td>\n",
       "      <td>IC</td>\n",
       "      <td>Invest Cont</td>\n",
       "      <td>420.0</td>\n",
       "      <td>NaN</td>\n",
       "      <td>NaN</td>\n",
       "      <td>NaN</td>\n",
       "      <td>17200    NAPA                         ST</td>\n",
       "      <td>NaN</td>\n",
       "      <td>34.2266</td>\n",
       "      <td>-118.5085</td>\n",
       "    </tr>\n",
       "    <tr>\n",
       "      <th>2117904</th>\n",
       "      <td>190805435</td>\n",
       "      <td>02/01/2019 12:00:00 AM</td>\n",
       "      <td>02/01/2019 12:00:00 AM</td>\n",
       "      <td>1615</td>\n",
       "      <td>8</td>\n",
       "      <td>West LA</td>\n",
       "      <td>852</td>\n",
       "      <td>1</td>\n",
       "      <td>330</td>\n",
       "      <td>BURGLARY FROM VEHICLE</td>\n",
       "      <td>...</td>\n",
       "      <td>IC</td>\n",
       "      <td>Invest Cont</td>\n",
       "      <td>330.0</td>\n",
       "      <td>NaN</td>\n",
       "      <td>NaN</td>\n",
       "      <td>NaN</td>\n",
       "      <td>1700    BARRY                        AV</td>\n",
       "      <td>NaN</td>\n",
       "      <td>34.0420</td>\n",
       "      <td>-118.4531</td>\n",
       "    </tr>\n",
       "  </tbody>\n",
       "</table>\n",
       "<p>5 rows × 28 columns</p>\n",
       "</div>"
      ],
      "text/plain": [
       "             DR_NO               Date Rptd                DATE OCC  TIME OCC  \\\n",
       "2117900  190506304  02/22/2019 12:00:00 AM  02/22/2019 12:00:00 AM       840   \n",
       "2117901  190715222  08/15/2019 12:00:00 AM  08/14/2019 12:00:00 AM      1810   \n",
       "2117902  192004409  01/06/2019 12:00:00 AM  01/06/2019 12:00:00 AM      2100   \n",
       "2117903  191716777  10/17/2019 12:00:00 AM  10/16/2019 12:00:00 AM      1800   \n",
       "2117904  190805435  02/01/2019 12:00:00 AM  02/01/2019 12:00:00 AM      1615   \n",
       "\n",
       "         AREA    AREA NAME  Rpt Dist No  Part 1-2  Crm Cd  \\\n",
       "2117900      5      Harbor          569         2     627   \n",
       "2117901      7    Wilshire          701         1     331   \n",
       "2117902     20     Olympic         2029         2     930   \n",
       "2117903     17  Devonshire         1795         1     420   \n",
       "2117904      8     West LA          852         1     330   \n",
       "\n",
       "                                              Crm Cd Desc  ... Status  \\\n",
       "2117900           CHILD ABUSE (PHYSICAL) - SIMPLE ASSAULT  ...     AO   \n",
       "2117901  THEFT FROM MOTOR VEHICLE - GRAND ($400 AND OVER)  ...     IC   \n",
       "2117902            CRIMINAL THREATS - NO WEAPON DISPLAYED  ...     IC   \n",
       "2117903   THEFT FROM MOTOR VEHICLE - PETTY ($950 & UNDER)  ...     IC   \n",
       "2117904                             BURGLARY FROM VEHICLE  ...     IC   \n",
       "\n",
       "         Status Desc Crm Cd 1 Crm Cd 2  Crm Cd 3 Crm Cd 4  \\\n",
       "2117900  Adult Other    627.0      NaN       NaN      NaN   \n",
       "2117901  Invest Cont    331.0      NaN       NaN      NaN   \n",
       "2117902  Invest Cont    930.0      NaN       NaN      NaN   \n",
       "2117903  Invest Cont    420.0      NaN       NaN      NaN   \n",
       "2117904  Invest Cont    330.0      NaN       NaN      NaN   \n",
       "\n",
       "                                         LOCATION  \\\n",
       "2117900    100 W  22ND                         ST   \n",
       "2117901           WILLOUGHBY                   AV   \n",
       "2117902                                       6TH   \n",
       "2117903  17200    NAPA                         ST   \n",
       "2117904   1700    BARRY                        AV   \n",
       "\n",
       "                            Cross Street      LAT       LON  \n",
       "2117900                              NaN  33.7257 -118.2801  \n",
       "2117901  ORLANDO                      AV  34.0871 -118.3732  \n",
       "2117902                           VIRGIL  34.0637 -118.2870  \n",
       "2117903                              NaN  34.2266 -118.5085  \n",
       "2117904                              NaN  34.0420 -118.4531  \n",
       "\n",
       "[5 rows x 28 columns]"
      ]
     },
     "execution_count": 3,
     "metadata": {},
     "output_type": "execute_result"
    }
   ],
   "source": [
    "df1.tail()"
   ]
  },
  {
   "cell_type": "code",
   "execution_count": 4,
   "metadata": {},
   "outputs": [
    {
     "data": {
      "text/html": [
       "<div>\n",
       "<style scoped>\n",
       "    .dataframe tbody tr th:only-of-type {\n",
       "        vertical-align: middle;\n",
       "    }\n",
       "\n",
       "    .dataframe tbody tr th {\n",
       "        vertical-align: top;\n",
       "    }\n",
       "\n",
       "    .dataframe thead th {\n",
       "        text-align: right;\n",
       "    }\n",
       "</style>\n",
       "<table border=\"1\" class=\"dataframe\">\n",
       "  <thead>\n",
       "    <tr style=\"text-align: right;\">\n",
       "      <th></th>\n",
       "      <th>DR_NO</th>\n",
       "      <th>Date Rptd</th>\n",
       "      <th>DATE OCC</th>\n",
       "      <th>TIME OCC</th>\n",
       "      <th>AREA</th>\n",
       "      <th>AREA NAME</th>\n",
       "      <th>Rpt Dist No</th>\n",
       "      <th>Part 1-2</th>\n",
       "      <th>Crm Cd</th>\n",
       "      <th>Crm Cd Desc</th>\n",
       "      <th>...</th>\n",
       "      <th>Status</th>\n",
       "      <th>Status Desc</th>\n",
       "      <th>Crm Cd 1</th>\n",
       "      <th>Crm Cd 2</th>\n",
       "      <th>Crm Cd 3</th>\n",
       "      <th>Crm Cd 4</th>\n",
       "      <th>LOCATION</th>\n",
       "      <th>Cross Street</th>\n",
       "      <th>LAT</th>\n",
       "      <th>LON</th>\n",
       "    </tr>\n",
       "  </thead>\n",
       "  <tbody>\n",
       "    <tr>\n",
       "      <th>0</th>\n",
       "      <td>10304468</td>\n",
       "      <td>01/08/2020 12:00:00 AM</td>\n",
       "      <td>01/08/2020 12:00:00 AM</td>\n",
       "      <td>2230</td>\n",
       "      <td>3</td>\n",
       "      <td>Southwest</td>\n",
       "      <td>377</td>\n",
       "      <td>2</td>\n",
       "      <td>624</td>\n",
       "      <td>BATTERY - SIMPLE ASSAULT</td>\n",
       "      <td>...</td>\n",
       "      <td>AO</td>\n",
       "      <td>Adult Other</td>\n",
       "      <td>624.0</td>\n",
       "      <td>NaN</td>\n",
       "      <td>NaN</td>\n",
       "      <td>NaN</td>\n",
       "      <td>1100 W  39TH                         PL</td>\n",
       "      <td>NaN</td>\n",
       "      <td>34.0141</td>\n",
       "      <td>-118.2978</td>\n",
       "    </tr>\n",
       "    <tr>\n",
       "      <th>1</th>\n",
       "      <td>190101086</td>\n",
       "      <td>01/02/2020 12:00:00 AM</td>\n",
       "      <td>01/01/2020 12:00:00 AM</td>\n",
       "      <td>330</td>\n",
       "      <td>1</td>\n",
       "      <td>Central</td>\n",
       "      <td>163</td>\n",
       "      <td>2</td>\n",
       "      <td>624</td>\n",
       "      <td>BATTERY - SIMPLE ASSAULT</td>\n",
       "      <td>...</td>\n",
       "      <td>IC</td>\n",
       "      <td>Invest Cont</td>\n",
       "      <td>624.0</td>\n",
       "      <td>NaN</td>\n",
       "      <td>NaN</td>\n",
       "      <td>NaN</td>\n",
       "      <td>700 S  HILL                         ST</td>\n",
       "      <td>NaN</td>\n",
       "      <td>34.0459</td>\n",
       "      <td>-118.2545</td>\n",
       "    </tr>\n",
       "    <tr>\n",
       "      <th>2</th>\n",
       "      <td>201220752</td>\n",
       "      <td>09/16/2020 12:00:00 AM</td>\n",
       "      <td>09/16/2020 12:00:00 AM</td>\n",
       "      <td>1230</td>\n",
       "      <td>12</td>\n",
       "      <td>77th Street</td>\n",
       "      <td>1259</td>\n",
       "      <td>2</td>\n",
       "      <td>745</td>\n",
       "      <td>VANDALISM - MISDEAMEANOR ($399 OR UNDER)</td>\n",
       "      <td>...</td>\n",
       "      <td>IC</td>\n",
       "      <td>Invest Cont</td>\n",
       "      <td>745.0</td>\n",
       "      <td>NaN</td>\n",
       "      <td>NaN</td>\n",
       "      <td>NaN</td>\n",
       "      <td>700 E  73RD                         ST</td>\n",
       "      <td>NaN</td>\n",
       "      <td>33.9739</td>\n",
       "      <td>-118.2630</td>\n",
       "    </tr>\n",
       "    <tr>\n",
       "      <th>3</th>\n",
       "      <td>191501505</td>\n",
       "      <td>01/01/2020 12:00:00 AM</td>\n",
       "      <td>01/01/2020 12:00:00 AM</td>\n",
       "      <td>1730</td>\n",
       "      <td>15</td>\n",
       "      <td>N Hollywood</td>\n",
       "      <td>1543</td>\n",
       "      <td>2</td>\n",
       "      <td>745</td>\n",
       "      <td>VANDALISM - MISDEAMEANOR ($399 OR UNDER)</td>\n",
       "      <td>...</td>\n",
       "      <td>IC</td>\n",
       "      <td>Invest Cont</td>\n",
       "      <td>745.0</td>\n",
       "      <td>998.0</td>\n",
       "      <td>NaN</td>\n",
       "      <td>NaN</td>\n",
       "      <td>5400    CORTEEN                      PL</td>\n",
       "      <td>NaN</td>\n",
       "      <td>34.1685</td>\n",
       "      <td>-118.4019</td>\n",
       "    </tr>\n",
       "    <tr>\n",
       "      <th>4</th>\n",
       "      <td>191921269</td>\n",
       "      <td>01/01/2020 12:00:00 AM</td>\n",
       "      <td>01/01/2020 12:00:00 AM</td>\n",
       "      <td>415</td>\n",
       "      <td>19</td>\n",
       "      <td>Mission</td>\n",
       "      <td>1998</td>\n",
       "      <td>2</td>\n",
       "      <td>740</td>\n",
       "      <td>VANDALISM - FELONY ($400 &amp; OVER, ALL CHURCH VA...</td>\n",
       "      <td>...</td>\n",
       "      <td>IC</td>\n",
       "      <td>Invest Cont</td>\n",
       "      <td>740.0</td>\n",
       "      <td>NaN</td>\n",
       "      <td>NaN</td>\n",
       "      <td>NaN</td>\n",
       "      <td>14400    TITUS                        ST</td>\n",
       "      <td>NaN</td>\n",
       "      <td>34.2198</td>\n",
       "      <td>-118.4468</td>\n",
       "    </tr>\n",
       "  </tbody>\n",
       "</table>\n",
       "<p>5 rows × 28 columns</p>\n",
       "</div>"
      ],
      "text/plain": [
       "       DR_NO               Date Rptd                DATE OCC  TIME OCC  AREA  \\\n",
       "0   10304468  01/08/2020 12:00:00 AM  01/08/2020 12:00:00 AM      2230     3   \n",
       "1  190101086  01/02/2020 12:00:00 AM  01/01/2020 12:00:00 AM       330     1   \n",
       "2  201220752  09/16/2020 12:00:00 AM  09/16/2020 12:00:00 AM      1230    12   \n",
       "3  191501505  01/01/2020 12:00:00 AM  01/01/2020 12:00:00 AM      1730    15   \n",
       "4  191921269  01/01/2020 12:00:00 AM  01/01/2020 12:00:00 AM       415    19   \n",
       "\n",
       "     AREA NAME  Rpt Dist No  Part 1-2  Crm Cd  \\\n",
       "0    Southwest          377         2     624   \n",
       "1      Central          163         2     624   \n",
       "2  77th Street         1259         2     745   \n",
       "3  N Hollywood         1543         2     745   \n",
       "4      Mission         1998         2     740   \n",
       "\n",
       "                                         Crm Cd Desc  ... Status  Status Desc  \\\n",
       "0                           BATTERY - SIMPLE ASSAULT  ...     AO  Adult Other   \n",
       "1                           BATTERY - SIMPLE ASSAULT  ...     IC  Invest Cont   \n",
       "2           VANDALISM - MISDEAMEANOR ($399 OR UNDER)  ...     IC  Invest Cont   \n",
       "3           VANDALISM - MISDEAMEANOR ($399 OR UNDER)  ...     IC  Invest Cont   \n",
       "4  VANDALISM - FELONY ($400 & OVER, ALL CHURCH VA...  ...     IC  Invest Cont   \n",
       "\n",
       "  Crm Cd 1 Crm Cd 2  Crm Cd 3 Crm Cd 4  \\\n",
       "0    624.0      NaN       NaN      NaN   \n",
       "1    624.0      NaN       NaN      NaN   \n",
       "2    745.0      NaN       NaN      NaN   \n",
       "3    745.0    998.0       NaN      NaN   \n",
       "4    740.0      NaN       NaN      NaN   \n",
       "\n",
       "                                   LOCATION Cross Street      LAT       LON  \n",
       "0   1100 W  39TH                         PL          NaN  34.0141 -118.2978  \n",
       "1    700 S  HILL                         ST          NaN  34.0459 -118.2545  \n",
       "2    700 E  73RD                         ST          NaN  33.9739 -118.2630  \n",
       "3   5400    CORTEEN                      PL          NaN  34.1685 -118.4019  \n",
       "4  14400    TITUS                        ST          NaN  34.2198 -118.4468  \n",
       "\n",
       "[5 rows x 28 columns]"
      ]
     },
     "execution_count": 4,
     "metadata": {},
     "output_type": "execute_result"
    }
   ],
   "source": [
    "df2.head()"
   ]
  },
  {
   "cell_type": "code",
   "execution_count": 5,
   "metadata": {},
   "outputs": [],
   "source": [
    "#Merging the two dataframes together\n",
    "df = pd.merge(df1, df2, how = 'outer')"
   ]
  },
  {
   "cell_type": "code",
   "execution_count": 6,
   "metadata": {},
   "outputs": [
    {
     "data": {
      "text/plain": [
       "(2419391, 29)"
      ]
     },
     "execution_count": 6,
     "metadata": {},
     "output_type": "execute_result"
    }
   ],
   "source": [
    "#showing the number of Rows and Columns (2419391 rows, 29 columns)\n",
    "df.shape"
   ]
  },
  {
   "cell_type": "code",
   "execution_count": 7,
   "metadata": {},
   "outputs": [
    {
     "data": {
      "text/plain": [
       "0            M\n",
       "1            M\n",
       "2            M\n",
       "3            F\n",
       "4            F\n",
       "          ... \n",
       "2419386    NaN\n",
       "2419387      F\n",
       "2419388      M\n",
       "2419389      F\n",
       "2419390    NaN\n",
       "Name: Vict Sex, Length: 2419391, dtype: object"
      ]
     },
     "execution_count": 7,
     "metadata": {},
     "output_type": "execute_result"
    }
   ],
   "source": [
    "df['Vict Sex']"
   ]
  },
  {
   "cell_type": "code",
   "execution_count": 8,
   "metadata": {},
   "outputs": [
    {
     "data": {
      "text/plain": [
       "DR_NO               int64\n",
       "Date Rptd          object\n",
       "DATE OCC           object\n",
       "TIME OCC            int64\n",
       "AREA              float64\n",
       "AREA NAME          object\n",
       "Rpt Dist No         int64\n",
       "Part 1-2            int64\n",
       "Crm Cd              int64\n",
       "Crm Cd Desc        object\n",
       "Mocodes            object\n",
       "Vict Age            int64\n",
       "Vict Sex           object\n",
       "Vict Descent       object\n",
       "Premis Cd         float64\n",
       "Premis Desc        object\n",
       "Weapon Used Cd    float64\n",
       "Weapon Desc        object\n",
       "Status             object\n",
       "Status Desc        object\n",
       "Crm Cd 1          float64\n",
       "Crm Cd 2          float64\n",
       "Crm Cd 3          float64\n",
       "Crm Cd 4          float64\n",
       "LOCATION           object\n",
       "Cross Street       object\n",
       "LAT               float64\n",
       "LON               float64\n",
       "AREA              float64\n",
       "dtype: object"
      ]
     },
     "execution_count": 8,
     "metadata": {},
     "output_type": "execute_result"
    }
   ],
   "source": [
    "df.dtypes"
   ]
  },
  {
   "cell_type": "code",
   "execution_count": 9,
   "metadata": {},
   "outputs": [],
   "source": [
    "#Converting to DateTime\n",
    "df['Date Rptd'] = pd.to_datetime(df['Date Rptd'])"
   ]
  },
  {
   "cell_type": "code",
   "execution_count": 10,
   "metadata": {},
   "outputs": [],
   "source": [
    "df['DATE OCC'] = pd.to_datetime(df['DATE OCC'])"
   ]
  },
  {
   "cell_type": "code",
   "execution_count": 11,
   "metadata": {},
   "outputs": [],
   "source": [
    "df['TIME OCC'] = pd.to_datetime(df['TIME OCC'])"
   ]
  },
  {
   "cell_type": "code",
   "execution_count": 12,
   "metadata": {},
   "outputs": [],
   "source": [
    "#Dropping columns from dataset\n",
    "df.drop(columns = ['DR_NO','Part 1-2', 'LAT', 'LON', 'AREA', 'Crm Cd 2', 'Crm Cd 3', 'Crm Cd 4'], inplace = True)"
   ]
  },
  {
   "cell_type": "code",
   "execution_count": 13,
   "metadata": {},
   "outputs": [],
   "source": [
    "#Converting Female to 1 and Male to 0\n",
    "df['Vict Sex'] = df['Vict Sex'].map({'F' : 1, 'M' : 0})"
   ]
  },
  {
   "cell_type": "code",
   "execution_count": 14,
   "metadata": {},
   "outputs": [
    {
     "data": {
      "text/plain": [
       "Date Rptd         datetime64[ns]\n",
       "DATE OCC          datetime64[ns]\n",
       "TIME OCC          datetime64[ns]\n",
       "AREA                     float64\n",
       "AREA NAME                 object\n",
       "Rpt Dist No                int64\n",
       "Crm Cd                     int64\n",
       "Crm Cd Desc               object\n",
       "Mocodes                   object\n",
       "Vict Age                   int64\n",
       "Vict Sex                 float64\n",
       "Vict Descent              object\n",
       "Premis Cd                float64\n",
       "Premis Desc               object\n",
       "Weapon Used Cd           float64\n",
       "Weapon Desc               object\n",
       "Status                    object\n",
       "Status Desc               object\n",
       "Crm Cd 1                 float64\n",
       "LOCATION                  object\n",
       "Cross Street              object\n",
       "dtype: object"
      ]
     },
     "execution_count": 14,
     "metadata": {},
     "output_type": "execute_result"
    }
   ],
   "source": [
    "df.dtypes"
   ]
  },
  {
   "cell_type": "code",
   "execution_count": 15,
   "metadata": {},
   "outputs": [],
   "source": [
    "df.drop(columns = ['Weapon Used Cd', 'AREA NAME', 'Crm Cd Desc', 'Mocodes', \n",
    "                   'Vict Descent', 'Premis Desc', 'Weapon Desc', 'Status', \n",
    "                   'Status Desc', 'LOCATION', 'Cross Street'], inplace = True)"
   ]
  },
  {
   "cell_type": "code",
   "execution_count": 16,
   "metadata": {},
   "outputs": [
    {
     "data": {
      "text/plain": [
       "Date Rptd           0\n",
       "DATE OCC            0\n",
       "TIME OCC            0\n",
       "AREA           301486\n",
       "Rpt Dist No         0\n",
       "Crm Cd              0\n",
       "Vict Age            0\n",
       "Vict Sex       316316\n",
       "Premis Cd          58\n",
       "Crm Cd 1           12\n",
       "dtype: int64"
      ]
     },
     "execution_count": 16,
     "metadata": {},
     "output_type": "execute_result"
    }
   ],
   "source": [
    "df.isnull().sum()"
   ]
  },
  {
   "cell_type": "code",
   "execution_count": 17,
   "metadata": {
    "scrolled": false
   },
   "outputs": [],
   "source": [
    "df.dropna(inplace = True)"
   ]
  },
  {
   "cell_type": "code",
   "execution_count": 18,
   "metadata": {},
   "outputs": [
    {
     "data": {
      "text/plain": [
       "(1865825, 10)"
      ]
     },
     "execution_count": 18,
     "metadata": {},
     "output_type": "execute_result"
    }
   ],
   "source": [
    "df.shape"
   ]
  },
  {
   "cell_type": "code",
   "execution_count": 19,
   "metadata": {},
   "outputs": [
    {
     "data": {
      "text/html": [
       "<style  type=\"text/css\" >\n",
       "#T_c1564475_f0cc_11eb_b5ca_34735ad2428crow0_col0,#T_c1564475_f0cc_11eb_b5ca_34735ad2428crow0_col1,#T_c1564475_f0cc_11eb_b5ca_34735ad2428crow1_col0,#T_c1564475_f0cc_11eb_b5ca_34735ad2428crow1_col1,#T_c1564475_f0cc_11eb_b5ca_34735ad2428crow2_col2,#T_c1564475_f0cc_11eb_b5ca_34735ad2428crow2_col6,#T_c1564475_f0cc_11eb_b5ca_34735ad2428crow3_col3,#T_c1564475_f0cc_11eb_b5ca_34735ad2428crow4_col4,#T_c1564475_f0cc_11eb_b5ca_34735ad2428crow5_col5,#T_c1564475_f0cc_11eb_b5ca_34735ad2428crow6_col2,#T_c1564475_f0cc_11eb_b5ca_34735ad2428crow6_col6{\n",
       "            background-color:  #023858;\n",
       "            color:  #f1f1f1;\n",
       "        }#T_c1564475_f0cc_11eb_b5ca_34735ad2428crow0_col2,#T_c1564475_f0cc_11eb_b5ca_34735ad2428crow0_col6,#T_c1564475_f0cc_11eb_b5ca_34735ad2428crow1_col2,#T_c1564475_f0cc_11eb_b5ca_34735ad2428crow1_col6{\n",
       "            background-color:  #f8f1f8;\n",
       "            color:  #000000;\n",
       "        }#T_c1564475_f0cc_11eb_b5ca_34735ad2428crow0_col3,#T_c1564475_f0cc_11eb_b5ca_34735ad2428crow1_col3{\n",
       "            background-color:  #f7f0f7;\n",
       "            color:  #000000;\n",
       "        }#T_c1564475_f0cc_11eb_b5ca_34735ad2428crow0_col4,#T_c1564475_f0cc_11eb_b5ca_34735ad2428crow0_col5,#T_c1564475_f0cc_11eb_b5ca_34735ad2428crow1_col4,#T_c1564475_f0cc_11eb_b5ca_34735ad2428crow1_col5,#T_c1564475_f0cc_11eb_b5ca_34735ad2428crow2_col0,#T_c1564475_f0cc_11eb_b5ca_34735ad2428crow2_col1,#T_c1564475_f0cc_11eb_b5ca_34735ad2428crow2_col3,#T_c1564475_f0cc_11eb_b5ca_34735ad2428crow3_col2,#T_c1564475_f0cc_11eb_b5ca_34735ad2428crow3_col6,#T_c1564475_f0cc_11eb_b5ca_34735ad2428crow6_col0,#T_c1564475_f0cc_11eb_b5ca_34735ad2428crow6_col1,#T_c1564475_f0cc_11eb_b5ca_34735ad2428crow6_col3{\n",
       "            background-color:  #fff7fb;\n",
       "            color:  #000000;\n",
       "        }#T_c1564475_f0cc_11eb_b5ca_34735ad2428crow2_col4,#T_c1564475_f0cc_11eb_b5ca_34735ad2428crow6_col4{\n",
       "            background-color:  #efe9f3;\n",
       "            color:  #000000;\n",
       "        }#T_c1564475_f0cc_11eb_b5ca_34735ad2428crow2_col5,#T_c1564475_f0cc_11eb_b5ca_34735ad2428crow5_col4,#T_c1564475_f0cc_11eb_b5ca_34735ad2428crow6_col5{\n",
       "            background-color:  #f1ebf5;\n",
       "            color:  #000000;\n",
       "        }#T_c1564475_f0cc_11eb_b5ca_34735ad2428crow3_col0,#T_c1564475_f0cc_11eb_b5ca_34735ad2428crow3_col1{\n",
       "            background-color:  #fef6fa;\n",
       "            color:  #000000;\n",
       "        }#T_c1564475_f0cc_11eb_b5ca_34735ad2428crow3_col4{\n",
       "            background-color:  #f9f2f8;\n",
       "            color:  #000000;\n",
       "        }#T_c1564475_f0cc_11eb_b5ca_34735ad2428crow3_col5,#T_c1564475_f0cc_11eb_b5ca_34735ad2428crow4_col0,#T_c1564475_f0cc_11eb_b5ca_34735ad2428crow4_col1{\n",
       "            background-color:  #fdf5fa;\n",
       "            color:  #000000;\n",
       "        }#T_c1564475_f0cc_11eb_b5ca_34735ad2428crow4_col2,#T_c1564475_f0cc_11eb_b5ca_34735ad2428crow4_col6{\n",
       "            background-color:  #e4e1ef;\n",
       "            color:  #000000;\n",
       "        }#T_c1564475_f0cc_11eb_b5ca_34735ad2428crow4_col3{\n",
       "            background-color:  #f0eaf4;\n",
       "            color:  #000000;\n",
       "        }#T_c1564475_f0cc_11eb_b5ca_34735ad2428crow4_col5{\n",
       "            background-color:  #f2ecf5;\n",
       "            color:  #000000;\n",
       "        }#T_c1564475_f0cc_11eb_b5ca_34735ad2428crow5_col0,#T_c1564475_f0cc_11eb_b5ca_34735ad2428crow5_col1{\n",
       "            background-color:  #fcf4fa;\n",
       "            color:  #000000;\n",
       "        }#T_c1564475_f0cc_11eb_b5ca_34735ad2428crow5_col2,#T_c1564475_f0cc_11eb_b5ca_34735ad2428crow5_col6{\n",
       "            background-color:  #e7e3f0;\n",
       "            color:  #000000;\n",
       "        }#T_c1564475_f0cc_11eb_b5ca_34735ad2428crow5_col3{\n",
       "            background-color:  #f3edf5;\n",
       "            color:  #000000;\n",
       "        }</style><table id=\"T_c1564475_f0cc_11eb_b5ca_34735ad2428c\" ><thead>    <tr>        <th class=\"blank level0\" ></th>        <th class=\"col_heading level0 col0\" >AREA </th>        <th class=\"col_heading level0 col1\" >Rpt Dist No</th>        <th class=\"col_heading level0 col2\" >Crm Cd</th>        <th class=\"col_heading level0 col3\" >Vict Age</th>        <th class=\"col_heading level0 col4\" >Vict Sex</th>        <th class=\"col_heading level0 col5\" >Premis Cd</th>        <th class=\"col_heading level0 col6\" >Crm Cd 1</th>    </tr></thead><tbody>\n",
       "                <tr>\n",
       "                        <th id=\"T_c1564475_f0cc_11eb_b5ca_34735ad2428clevel0_row0\" class=\"row_heading level0 row0\" >AREA </th>\n",
       "                        <td id=\"T_c1564475_f0cc_11eb_b5ca_34735ad2428crow0_col0\" class=\"data row0 col0\" >1.000000</td>\n",
       "                        <td id=\"T_c1564475_f0cc_11eb_b5ca_34735ad2428crow0_col1\" class=\"data row0 col1\" >0.999023</td>\n",
       "                        <td id=\"T_c1564475_f0cc_11eb_b5ca_34735ad2428crow0_col2\" class=\"data row0 col2\" >-0.002159</td>\n",
       "                        <td id=\"T_c1564475_f0cc_11eb_b5ca_34735ad2428crow0_col3\" class=\"data row0 col3\" >0.007408</td>\n",
       "                        <td id=\"T_c1564475_f0cc_11eb_b5ca_34735ad2428crow0_col4\" class=\"data row0 col4\" >0.013302</td>\n",
       "                        <td id=\"T_c1564475_f0cc_11eb_b5ca_34735ad2428crow0_col5\" class=\"data row0 col5\" >0.017978</td>\n",
       "                        <td id=\"T_c1564475_f0cc_11eb_b5ca_34735ad2428crow0_col6\" class=\"data row0 col6\" >-0.002308</td>\n",
       "            </tr>\n",
       "            <tr>\n",
       "                        <th id=\"T_c1564475_f0cc_11eb_b5ca_34735ad2428clevel0_row1\" class=\"row_heading level0 row1\" >Rpt Dist No</th>\n",
       "                        <td id=\"T_c1564475_f0cc_11eb_b5ca_34735ad2428crow1_col0\" class=\"data row1 col0\" >0.999023</td>\n",
       "                        <td id=\"T_c1564475_f0cc_11eb_b5ca_34735ad2428crow1_col1\" class=\"data row1 col1\" >1.000000</td>\n",
       "                        <td id=\"T_c1564475_f0cc_11eb_b5ca_34735ad2428crow1_col2\" class=\"data row1 col2\" >-0.002305</td>\n",
       "                        <td id=\"T_c1564475_f0cc_11eb_b5ca_34735ad2428crow1_col3\" class=\"data row1 col3\" >0.007831</td>\n",
       "                        <td id=\"T_c1564475_f0cc_11eb_b5ca_34735ad2428crow1_col4\" class=\"data row1 col4\" >0.013435</td>\n",
       "                        <td id=\"T_c1564475_f0cc_11eb_b5ca_34735ad2428crow1_col5\" class=\"data row1 col5\" >0.017879</td>\n",
       "                        <td id=\"T_c1564475_f0cc_11eb_b5ca_34735ad2428crow1_col6\" class=\"data row1 col6\" >-0.002454</td>\n",
       "            </tr>\n",
       "            <tr>\n",
       "                        <th id=\"T_c1564475_f0cc_11eb_b5ca_34735ad2428clevel0_row2\" class=\"row_heading level0 row2\" >Crm Cd</th>\n",
       "                        <td id=\"T_c1564475_f0cc_11eb_b5ca_34735ad2428crow2_col0\" class=\"data row2 col0\" >-0.002159</td>\n",
       "                        <td id=\"T_c1564475_f0cc_11eb_b5ca_34735ad2428crow2_col1\" class=\"data row2 col1\" >-0.002305</td>\n",
       "                        <td id=\"T_c1564475_f0cc_11eb_b5ca_34735ad2428crow2_col2\" class=\"data row2 col2\" >1.000000</td>\n",
       "                        <td id=\"T_c1564475_f0cc_11eb_b5ca_34735ad2428crow2_col3\" class=\"data row2 col3\" >-0.049552</td>\n",
       "                        <td id=\"T_c1564475_f0cc_11eb_b5ca_34735ad2428crow2_col4\" class=\"data row2 col4\" >0.121008</td>\n",
       "                        <td id=\"T_c1564475_f0cc_11eb_b5ca_34735ad2428crow2_col5\" class=\"data row2 col5\" >0.107913</td>\n",
       "                        <td id=\"T_c1564475_f0cc_11eb_b5ca_34735ad2428crow2_col6\" class=\"data row2 col6\" >0.999506</td>\n",
       "            </tr>\n",
       "            <tr>\n",
       "                        <th id=\"T_c1564475_f0cc_11eb_b5ca_34735ad2428clevel0_row3\" class=\"row_heading level0 row3\" >Vict Age</th>\n",
       "                        <td id=\"T_c1564475_f0cc_11eb_b5ca_34735ad2428crow3_col0\" class=\"data row3 col0\" >0.007408</td>\n",
       "                        <td id=\"T_c1564475_f0cc_11eb_b5ca_34735ad2428crow3_col1\" class=\"data row3 col1\" >0.007831</td>\n",
       "                        <td id=\"T_c1564475_f0cc_11eb_b5ca_34735ad2428crow3_col2\" class=\"data row3 col2\" >-0.049552</td>\n",
       "                        <td id=\"T_c1564475_f0cc_11eb_b5ca_34735ad2428crow3_col3\" class=\"data row3 col3\" >1.000000</td>\n",
       "                        <td id=\"T_c1564475_f0cc_11eb_b5ca_34735ad2428crow3_col4\" class=\"data row3 col4\" >0.053186</td>\n",
       "                        <td id=\"T_c1564475_f0cc_11eb_b5ca_34735ad2428crow3_col5\" class=\"data row3 col5\" >0.033309</td>\n",
       "                        <td id=\"T_c1564475_f0cc_11eb_b5ca_34735ad2428crow3_col6\" class=\"data row3 col6\" >-0.049173</td>\n",
       "            </tr>\n",
       "            <tr>\n",
       "                        <th id=\"T_c1564475_f0cc_11eb_b5ca_34735ad2428clevel0_row4\" class=\"row_heading level0 row4\" >Vict Sex</th>\n",
       "                        <td id=\"T_c1564475_f0cc_11eb_b5ca_34735ad2428crow4_col0\" class=\"data row4 col0\" >0.013302</td>\n",
       "                        <td id=\"T_c1564475_f0cc_11eb_b5ca_34735ad2428crow4_col1\" class=\"data row4 col1\" >0.013435</td>\n",
       "                        <td id=\"T_c1564475_f0cc_11eb_b5ca_34735ad2428crow4_col2\" class=\"data row4 col2\" >0.121008</td>\n",
       "                        <td id=\"T_c1564475_f0cc_11eb_b5ca_34735ad2428crow4_col3\" class=\"data row4 col3\" >0.053186</td>\n",
       "                        <td id=\"T_c1564475_f0cc_11eb_b5ca_34735ad2428crow4_col4\" class=\"data row4 col4\" >1.000000</td>\n",
       "                        <td id=\"T_c1564475_f0cc_11eb_b5ca_34735ad2428crow4_col5\" class=\"data row4 col5\" >0.103326</td>\n",
       "                        <td id=\"T_c1564475_f0cc_11eb_b5ca_34735ad2428crow4_col6\" class=\"data row4 col6\" >0.120811</td>\n",
       "            </tr>\n",
       "            <tr>\n",
       "                        <th id=\"T_c1564475_f0cc_11eb_b5ca_34735ad2428clevel0_row5\" class=\"row_heading level0 row5\" >Premis Cd</th>\n",
       "                        <td id=\"T_c1564475_f0cc_11eb_b5ca_34735ad2428crow5_col0\" class=\"data row5 col0\" >0.017978</td>\n",
       "                        <td id=\"T_c1564475_f0cc_11eb_b5ca_34735ad2428crow5_col1\" class=\"data row5 col1\" >0.017879</td>\n",
       "                        <td id=\"T_c1564475_f0cc_11eb_b5ca_34735ad2428crow5_col2\" class=\"data row5 col2\" >0.107913</td>\n",
       "                        <td id=\"T_c1564475_f0cc_11eb_b5ca_34735ad2428crow5_col3\" class=\"data row5 col3\" >0.033309</td>\n",
       "                        <td id=\"T_c1564475_f0cc_11eb_b5ca_34735ad2428crow5_col4\" class=\"data row5 col4\" >0.103326</td>\n",
       "                        <td id=\"T_c1564475_f0cc_11eb_b5ca_34735ad2428crow5_col5\" class=\"data row5 col5\" >1.000000</td>\n",
       "                        <td id=\"T_c1564475_f0cc_11eb_b5ca_34735ad2428crow5_col6\" class=\"data row5 col6\" >0.108046</td>\n",
       "            </tr>\n",
       "            <tr>\n",
       "                        <th id=\"T_c1564475_f0cc_11eb_b5ca_34735ad2428clevel0_row6\" class=\"row_heading level0 row6\" >Crm Cd 1</th>\n",
       "                        <td id=\"T_c1564475_f0cc_11eb_b5ca_34735ad2428crow6_col0\" class=\"data row6 col0\" >-0.002308</td>\n",
       "                        <td id=\"T_c1564475_f0cc_11eb_b5ca_34735ad2428crow6_col1\" class=\"data row6 col1\" >-0.002454</td>\n",
       "                        <td id=\"T_c1564475_f0cc_11eb_b5ca_34735ad2428crow6_col2\" class=\"data row6 col2\" >0.999506</td>\n",
       "                        <td id=\"T_c1564475_f0cc_11eb_b5ca_34735ad2428crow6_col3\" class=\"data row6 col3\" >-0.049173</td>\n",
       "                        <td id=\"T_c1564475_f0cc_11eb_b5ca_34735ad2428crow6_col4\" class=\"data row6 col4\" >0.120811</td>\n",
       "                        <td id=\"T_c1564475_f0cc_11eb_b5ca_34735ad2428crow6_col5\" class=\"data row6 col5\" >0.108046</td>\n",
       "                        <td id=\"T_c1564475_f0cc_11eb_b5ca_34735ad2428crow6_col6\" class=\"data row6 col6\" >1.000000</td>\n",
       "            </tr>\n",
       "    </tbody></table>"
      ],
      "text/plain": [
       "<pandas.io.formats.style.Styler at 0x2200691a3a0>"
      ]
     },
     "execution_count": 19,
     "metadata": {},
     "output_type": "execute_result"
    }
   ],
   "source": [
    "df.corr().style.background_gradient()"
   ]
  },
  {
   "cell_type": "code",
   "execution_count": 20,
   "metadata": {},
   "outputs": [],
   "source": [
    "x = df[['AREA ', 'Rpt Dist No', 'Crm Cd', 'Vict Age', 'Premis Cd', 'Crm Cd 1']]\n",
    "y = df['Vict Sex']"
   ]
  },
  {
   "cell_type": "code",
   "execution_count": 21,
   "metadata": {},
   "outputs": [],
   "source": [
    "x_train, x_test, y_train, y_test = train_test_split(x, y, random_state = 42, test_size = .1)"
   ]
  },
  {
   "cell_type": "code",
   "execution_count": 22,
   "metadata": {},
   "outputs": [
    {
     "data": {
      "text/plain": [
       "(1679242, 6)"
      ]
     },
     "execution_count": 22,
     "metadata": {},
     "output_type": "execute_result"
    }
   ],
   "source": [
    "x_train.shape"
   ]
  },
  {
   "cell_type": "code",
   "execution_count": 23,
   "metadata": {},
   "outputs": [
    {
     "data": {
      "text/plain": [
       "(186583, 6)"
      ]
     },
     "execution_count": 23,
     "metadata": {},
     "output_type": "execute_result"
    }
   ],
   "source": [
    "x_test.shape"
   ]
  },
  {
   "cell_type": "code",
   "execution_count": 24,
   "metadata": {},
   "outputs": [],
   "source": [
    "from sklearn.linear_model import LinearRegression"
   ]
  },
  {
   "cell_type": "code",
   "execution_count": 25,
   "metadata": {},
   "outputs": [
    {
     "data": {
      "text/plain": [
       "LinearRegression()"
      ]
     },
     "execution_count": 25,
     "metadata": {},
     "output_type": "execute_result"
    }
   ],
   "source": [
    "model = LinearRegression()\n",
    "\n",
    "model.fit(x_train, y_train)"
   ]
  },
  {
   "cell_type": "code",
   "execution_count": 26,
   "metadata": {},
   "outputs": [
    {
     "data": {
      "text/plain": [
       "0.025992331637470056"
      ]
     },
     "execution_count": 26,
     "metadata": {},
     "output_type": "execute_result"
    }
   ],
   "source": [
    "model.score(x_train, y_train)"
   ]
  },
  {
   "cell_type": "code",
   "execution_count": 27,
   "metadata": {},
   "outputs": [
    {
     "data": {
      "text/plain": [
       "0.027765278622063683"
      ]
     },
     "execution_count": 27,
     "metadata": {},
     "output_type": "execute_result"
    }
   ],
   "source": [
    "model.score(x_test, y_test)"
   ]
  },
  {
   "cell_type": "code",
   "execution_count": 28,
   "metadata": {},
   "outputs": [],
   "source": [
    "y_pred = model.predict(x_test)"
   ]
  },
  {
   "cell_type": "code",
   "execution_count": 29,
   "metadata": {},
   "outputs": [],
   "source": [
    "from sklearn import metrics\n",
    "from sklearn.neural_network import MLPClassifier"
   ]
  },
  {
   "cell_type": "code",
   "execution_count": 30,
   "metadata": {},
   "outputs": [
    {
     "data": {
      "text/plain": [
       "0.4855704654834009"
      ]
     },
     "execution_count": 30,
     "metadata": {},
     "output_type": "execute_result"
    }
   ],
   "source": [
    "metrics.mean_absolute_error(y_test, y_pred)"
   ]
  },
  {
   "cell_type": "code",
   "execution_count": 31,
   "metadata": {},
   "outputs": [
    {
     "data": {
      "text/plain": [
       "0.2425817524675688"
      ]
     },
     "execution_count": 31,
     "metadata": {},
     "output_type": "execute_result"
    }
   ],
   "source": [
    "metrics.mean_squared_error(y_test, y_pred)"
   ]
  },
  {
   "cell_type": "code",
   "execution_count": 32,
   "metadata": {},
   "outputs": [],
   "source": [
    "from sklearn.neural_network import MLPClassifier"
   ]
  },
  {
   "cell_type": "code",
   "execution_count": 37,
   "metadata": {},
   "outputs": [],
   "source": [
    "mlp = MLPClassifier(hidden_layer_sizes = (4, 9), max_iter = 2000)"
   ]
  },
  {
   "cell_type": "code",
   "execution_count": 38,
   "metadata": {},
   "outputs": [
    {
     "data": {
      "text/plain": [
       "MLPClassifier(hidden_layer_sizes=(4, 9), max_iter=2000)"
      ]
     },
     "execution_count": 38,
     "metadata": {},
     "output_type": "execute_result"
    }
   ],
   "source": [
    "mlp.fit(x_train, y_train)"
   ]
  },
  {
   "cell_type": "code",
   "execution_count": 39,
   "metadata": {},
   "outputs": [
    {
     "data": {
      "text/plain": [
       "0.5926685969026502"
      ]
     },
     "execution_count": 39,
     "metadata": {},
     "output_type": "execute_result"
    }
   ],
   "source": [
    "mlp.score(x_train, y_train)"
   ]
  },
  {
   "cell_type": "code",
   "execution_count": 40,
   "metadata": {},
   "outputs": [
    {
     "data": {
      "text/plain": [
       "0.5938268759747672"
      ]
     },
     "execution_count": 40,
     "metadata": {},
     "output_type": "execute_result"
    }
   ],
   "source": [
    "mlp.score(x_test, y_test)"
   ]
  }
 ],
 "metadata": {
  "kernelspec": {
   "display_name": "Python 3",
   "language": "python",
   "name": "python3"
  },
  "language_info": {
   "codemirror_mode": {
    "name": "ipython",
    "version": 3
   },
   "file_extension": ".py",
   "mimetype": "text/x-python",
   "name": "python",
   "nbconvert_exporter": "python",
   "pygments_lexer": "ipython3",
   "version": "3.8.5"
  }
 },
 "nbformat": 4,
 "nbformat_minor": 4
}
